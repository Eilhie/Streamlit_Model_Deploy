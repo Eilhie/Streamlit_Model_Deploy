{
  "cells": [
    {
      "cell_type": "code",
      "execution_count": 30,
      "metadata": {
        "id": "UO1ExQE8XXcg"
      },
      "outputs": [],
      "source": [
        "import pandas as pd\n",
        "import numpy as np\n",
        "import matplotlib.pyplot as plt\n",
        "import seaborn as sns"
      ]
    },
    {
      "cell_type": "code",
      "execution_count": 31,
      "metadata": {
        "colab": {
          "base_uri": "https://localhost:8080/",
          "height": 206
        },
        "id": "E_q4V6_EZMrS",
        "outputId": "021903e8-cb52-4b49-9a9a-69d844632eb5"
      },
      "outputs": [
        {
          "data": {
            "text/html": [
              "<div>\n",
              "<style scoped>\n",
              "    .dataframe tbody tr th:only-of-type {\n",
              "        vertical-align: middle;\n",
              "    }\n",
              "\n",
              "    .dataframe tbody tr th {\n",
              "        vertical-align: top;\n",
              "    }\n",
              "\n",
              "    .dataframe thead th {\n",
              "        text-align: right;\n",
              "    }\n",
              "</style>\n",
              "<table border=\"1\" class=\"dataframe\">\n",
              "  <thead>\n",
              "    <tr style=\"text-align: right;\">\n",
              "      <th></th>\n",
              "      <th>Unnamed: 0</th>\n",
              "      <th>id</th>\n",
              "      <th>CustomerId</th>\n",
              "      <th>Surname</th>\n",
              "      <th>CreditScore</th>\n",
              "      <th>Geography</th>\n",
              "      <th>Gender</th>\n",
              "      <th>Age</th>\n",
              "      <th>Tenure</th>\n",
              "      <th>Balance</th>\n",
              "      <th>NumOfProducts</th>\n",
              "      <th>HasCrCard</th>\n",
              "      <th>IsActiveMember</th>\n",
              "      <th>EstimatedSalary</th>\n",
              "      <th>churn</th>\n",
              "    </tr>\n",
              "  </thead>\n",
              "  <tbody>\n",
              "    <tr>\n",
              "      <th>0</th>\n",
              "      <td>0</td>\n",
              "      <td>7317</td>\n",
              "      <td>15637411</td>\n",
              "      <td>Tochukwu</td>\n",
              "      <td>749.0</td>\n",
              "      <td>France</td>\n",
              "      <td>Male</td>\n",
              "      <td>30.0</td>\n",
              "      <td>1</td>\n",
              "      <td>0.00</td>\n",
              "      <td>2</td>\n",
              "      <td>0</td>\n",
              "      <td>0</td>\n",
              "      <td>126551.65</td>\n",
              "      <td>1</td>\n",
              "    </tr>\n",
              "    <tr>\n",
              "      <th>1</th>\n",
              "      <td>1</td>\n",
              "      <td>11125</td>\n",
              "      <td>15745307</td>\n",
              "      <td>Martin</td>\n",
              "      <td>683.0</td>\n",
              "      <td>Germany</td>\n",
              "      <td>Male</td>\n",
              "      <td>32.0</td>\n",
              "      <td>7</td>\n",
              "      <td>121887.91</td>\n",
              "      <td>1</td>\n",
              "      <td>1</td>\n",
              "      <td>1</td>\n",
              "      <td>176570.46</td>\n",
              "      <td>0</td>\n",
              "    </tr>\n",
              "    <tr>\n",
              "      <th>2</th>\n",
              "      <td>2</td>\n",
              "      <td>45720</td>\n",
              "      <td>15677382</td>\n",
              "      <td>Aitken</td>\n",
              "      <td>711.0</td>\n",
              "      <td>Spain</td>\n",
              "      <td>Female</td>\n",
              "      <td>33.0</td>\n",
              "      <td>5</td>\n",
              "      <td>0.00</td>\n",
              "      <td>2</td>\n",
              "      <td>1</td>\n",
              "      <td>0</td>\n",
              "      <td>162703.80</td>\n",
              "      <td>0</td>\n",
              "    </tr>\n",
              "    <tr>\n",
              "      <th>3</th>\n",
              "      <td>3</td>\n",
              "      <td>74042</td>\n",
              "      <td>15694450</td>\n",
              "      <td>Tuan</td>\n",
              "      <td>722.0</td>\n",
              "      <td>France</td>\n",
              "      <td>Female</td>\n",
              "      <td>28.0</td>\n",
              "      <td>4</td>\n",
              "      <td>0.00</td>\n",
              "      <td>2</td>\n",
              "      <td>1</td>\n",
              "      <td>1</td>\n",
              "      <td>76615.31</td>\n",
              "      <td>0</td>\n",
              "    </tr>\n",
              "    <tr>\n",
              "      <th>4</th>\n",
              "      <td>4</td>\n",
              "      <td>109985</td>\n",
              "      <td>15734987</td>\n",
              "      <td>Aitken</td>\n",
              "      <td>754.0</td>\n",
              "      <td>France</td>\n",
              "      <td>Female</td>\n",
              "      <td>67.0</td>\n",
              "      <td>3</td>\n",
              "      <td>0.00</td>\n",
              "      <td>2</td>\n",
              "      <td>1</td>\n",
              "      <td>1</td>\n",
              "      <td>114514.92</td>\n",
              "      <td>0</td>\n",
              "    </tr>\n",
              "  </tbody>\n",
              "</table>\n",
              "</div>"
            ],
            "text/plain": [
              "   Unnamed: 0      id  CustomerId   Surname  CreditScore Geography  Gender  \\\n",
              "0           0    7317    15637411  Tochukwu        749.0    France    Male   \n",
              "1           1   11125    15745307    Martin        683.0   Germany    Male   \n",
              "2           2   45720    15677382    Aitken        711.0     Spain  Female   \n",
              "3           3   74042    15694450      Tuan        722.0    France  Female   \n",
              "4           4  109985    15734987    Aitken        754.0    France  Female   \n",
              "\n",
              "    Age  Tenure    Balance  NumOfProducts  HasCrCard  IsActiveMember  \\\n",
              "0  30.0       1       0.00              2          0               0   \n",
              "1  32.0       7  121887.91              1          1               1   \n",
              "2  33.0       5       0.00              2          1               0   \n",
              "3  28.0       4       0.00              2          1               1   \n",
              "4  67.0       3       0.00              2          1               1   \n",
              "\n",
              "   EstimatedSalary  churn  \n",
              "0        126551.65      1  \n",
              "1        176570.46      0  \n",
              "2        162703.80      0  \n",
              "3         76615.31      0  \n",
              "4        114514.92      0  "
            ]
          },
          "execution_count": 31,
          "metadata": {},
          "output_type": "execute_result"
        }
      ],
      "source": [
        "df = pd.read_csv(\"data_A.csv\")\n",
        "df.head()"
      ]
    },
    {
      "cell_type": "code",
      "execution_count": 32,
      "metadata": {
        "colab": {
          "base_uri": "https://localhost:8080/"
        },
        "id": "fj5KqXBLaWOu",
        "outputId": "be1c40a3-d4b1-418b-8584-f62463d67720"
      },
      "outputs": [
        {
          "name": "stdout",
          "output_type": "stream",
          "text": [
            "<class 'pandas.core.frame.DataFrame'>\n",
            "RangeIndex: 41258 entries, 0 to 41257\n",
            "Data columns (total 15 columns):\n",
            " #   Column           Non-Null Count  Dtype  \n",
            "---  ------           --------------  -----  \n",
            " 0   Unnamed: 0       41258 non-null  int64  \n",
            " 1   id               41258 non-null  int64  \n",
            " 2   CustomerId       41258 non-null  int64  \n",
            " 3   Surname          41258 non-null  object \n",
            " 4   CreditScore      41238 non-null  float64\n",
            " 5   Geography        41258 non-null  object \n",
            " 6   Gender           41258 non-null  object \n",
            " 7   Age              41258 non-null  float64\n",
            " 8   Tenure           41258 non-null  int64  \n",
            " 9   Balance          41258 non-null  float64\n",
            " 10  NumOfProducts    41258 non-null  int64  \n",
            " 11  HasCrCard        41258 non-null  int64  \n",
            " 12  IsActiveMember   41258 non-null  int64  \n",
            " 13  EstimatedSalary  41258 non-null  float64\n",
            " 14  churn            41258 non-null  int64  \n",
            "dtypes: float64(4), int64(8), object(3)\n",
            "memory usage: 4.7+ MB\n"
          ]
        }
      ],
      "source": [
        "df.info()"
      ]
    },
    {
      "cell_type": "markdown",
      "metadata": {},
      "source": [
        "melihat dari data yang diberikan terdapat beberapa feature yang dapat di drop seperti id dan surname"
      ]
    },
    {
      "cell_type": "code",
      "execution_count": 33,
      "metadata": {
        "id": "6aU8PfF_dCiI"
      },
      "outputs": [],
      "source": [
        "df.drop(['Unnamed: 0', 'id', 'CustomerId', 'Surname'], axis=1, inplace=True)"
      ]
    },
    {
      "cell_type": "code",
      "execution_count": 34,
      "metadata": {
        "colab": {
          "base_uri": "https://localhost:8080/"
        },
        "id": "QsdSNQOVbSbT",
        "outputId": "caf73319-d31a-47b9-ccec-f1a4efbfa35c"
      },
      "outputs": [
        {
          "data": {
            "text/plain": [
              "CreditScore        20\n",
              "Geography           0\n",
              "Gender              0\n",
              "Age                 0\n",
              "Tenure              0\n",
              "Balance             0\n",
              "NumOfProducts       0\n",
              "HasCrCard           0\n",
              "IsActiveMember      0\n",
              "EstimatedSalary     0\n",
              "churn               0\n",
              "dtype: int64"
            ]
          },
          "execution_count": 34,
          "metadata": {},
          "output_type": "execute_result"
        }
      ],
      "source": [
        "df.isna().sum()"
      ]
    },
    {
      "cell_type": "markdown",
      "metadata": {},
      "source": [
        "jumlah missing value pada data yang diberikan tidak banyak sehingga dapat drop data missing tersebut"
      ]
    },
    {
      "cell_type": "code",
      "execution_count": 35,
      "metadata": {
        "id": "AErcFyFdlXZu"
      },
      "outputs": [],
      "source": [
        "df.dropna(inplace=True)"
      ]
    },
    {
      "cell_type": "code",
      "execution_count": 36,
      "metadata": {
        "colab": {
          "base_uri": "https://localhost:8080/"
        },
        "id": "NKk-U-JElacs",
        "outputId": "3fc02125-5a3f-46c3-e3f6-74a9e499b364"
      },
      "outputs": [
        {
          "data": {
            "text/plain": [
              "CreditScore        0\n",
              "Geography          0\n",
              "Gender             0\n",
              "Age                0\n",
              "Tenure             0\n",
              "Balance            0\n",
              "NumOfProducts      0\n",
              "HasCrCard          0\n",
              "IsActiveMember     0\n",
              "EstimatedSalary    0\n",
              "churn              0\n",
              "dtype: int64"
            ]
          },
          "execution_count": 36,
          "metadata": {},
          "output_type": "execute_result"
        }
      ],
      "source": [
        "df.isna().sum()"
      ]
    },
    {
      "cell_type": "code",
      "execution_count": 37,
      "metadata": {
        "id": "7MH_pzUsfHj4"
      },
      "outputs": [],
      "source": [
        "numeric = df.select_dtypes(['float64', 'int64']).columns\n",
        "categorical = df.drop(numeric, axis=1).columns"
      ]
    },
    {
      "cell_type": "markdown",
      "metadata": {},
      "source": [
        "melakukan pembagian tipe variable untuk memudahkan proses processing pada data"
      ]
    },
    {
      "cell_type": "code",
      "execution_count": 38,
      "metadata": {
        "colab": {
          "base_uri": "https://localhost:8080/",
          "height": 545
        },
        "id": "UIC8UNCibWWj",
        "outputId": "f7422f34-5bc1-4aba-c321-cbad09145145"
      },
      "outputs": [
        {
          "data": {
            "image/png": "[encoded data removed]",
            "text/plain": [
              "<Figure size 1000x600 with 1 Axes>"
            ]
          },
          "metadata": {},
          "output_type": "display_data"
        }
      ],
      "source": [
        "plt.figure(figsize=(10, 6))\n",
        "sns.boxplot(data=df[numeric])\n",
        "plt.title('Box Plot')\n",
        "plt.show()"
      ]
    },
    {
      "cell_type": "markdown",
      "metadata": {},
      "source": [
        "outlier yang ada pada data tidak terlalu ketara sehingga dapat dihiraukan pada data ini "
      ]
    },
    {
      "cell_type": "code",
      "execution_count": 39,
      "metadata": {
        "colab": {
          "base_uri": "https://localhost:8080/",
          "height": 206
        },
        "id": "5EfN8sVbdoO5",
        "outputId": "8b820ee6-8110-4f96-a12d-59fd832e3133"
      },
      "outputs": [
        {
          "data": {
            "text/html": [
              "<div>\n",
              "<style scoped>\n",
              "    .dataframe tbody tr th:only-of-type {\n",
              "        vertical-align: middle;\n",
              "    }\n",
              "\n",
              "    .dataframe tbody tr th {\n",
              "        vertical-align: top;\n",
              "    }\n",
              "\n",
              "    .dataframe thead th {\n",
              "        text-align: right;\n",
              "    }\n",
              "</style>\n",
              "<table border=\"1\" class=\"dataframe\">\n",
              "  <thead>\n",
              "    <tr style=\"text-align: right;\">\n",
              "      <th></th>\n",
              "      <th>CreditScore</th>\n",
              "      <th>Geography</th>\n",
              "      <th>Gender</th>\n",
              "      <th>Age</th>\n",
              "      <th>Tenure</th>\n",
              "      <th>Balance</th>\n",
              "      <th>NumOfProducts</th>\n",
              "      <th>HasCrCard</th>\n",
              "      <th>IsActiveMember</th>\n",
              "      <th>EstimatedSalary</th>\n",
              "      <th>churn</th>\n",
              "    </tr>\n",
              "  </thead>\n",
              "  <tbody>\n",
              "    <tr>\n",
              "      <th>0</th>\n",
              "      <td>749.0</td>\n",
              "      <td>France</td>\n",
              "      <td>Male</td>\n",
              "      <td>30.0</td>\n",
              "      <td>1</td>\n",
              "      <td>0.00</td>\n",
              "      <td>2</td>\n",
              "      <td>0</td>\n",
              "      <td>0</td>\n",
              "      <td>126551.65</td>\n",
              "      <td>1</td>\n",
              "    </tr>\n",
              "    <tr>\n",
              "      <th>1</th>\n",
              "      <td>683.0</td>\n",
              "      <td>Germany</td>\n",
              "      <td>Male</td>\n",
              "      <td>32.0</td>\n",
              "      <td>7</td>\n",
              "      <td>121887.91</td>\n",
              "      <td>1</td>\n",
              "      <td>1</td>\n",
              "      <td>1</td>\n",
              "      <td>176570.46</td>\n",
              "      <td>0</td>\n",
              "    </tr>\n",
              "    <tr>\n",
              "      <th>2</th>\n",
              "      <td>711.0</td>\n",
              "      <td>Spain</td>\n",
              "      <td>Female</td>\n",
              "      <td>33.0</td>\n",
              "      <td>5</td>\n",
              "      <td>0.00</td>\n",
              "      <td>2</td>\n",
              "      <td>1</td>\n",
              "      <td>0</td>\n",
              "      <td>162703.80</td>\n",
              "      <td>0</td>\n",
              "    </tr>\n",
              "    <tr>\n",
              "      <th>3</th>\n",
              "      <td>722.0</td>\n",
              "      <td>France</td>\n",
              "      <td>Female</td>\n",
              "      <td>28.0</td>\n",
              "      <td>4</td>\n",
              "      <td>0.00</td>\n",
              "      <td>2</td>\n",
              "      <td>1</td>\n",
              "      <td>1</td>\n",
              "      <td>76615.31</td>\n",
              "      <td>0</td>\n",
              "    </tr>\n",
              "    <tr>\n",
              "      <th>4</th>\n",
              "      <td>754.0</td>\n",
              "      <td>France</td>\n",
              "      <td>Female</td>\n",
              "      <td>67.0</td>\n",
              "      <td>3</td>\n",
              "      <td>0.00</td>\n",
              "      <td>2</td>\n",
              "      <td>1</td>\n",
              "      <td>1</td>\n",
              "      <td>114514.92</td>\n",
              "      <td>0</td>\n",
              "    </tr>\n",
              "  </tbody>\n",
              "</table>\n",
              "</div>"
            ],
            "text/plain": [
              "   CreditScore Geography  Gender   Age  Tenure    Balance  NumOfProducts  \\\n",
              "0        749.0    France    Male  30.0       1       0.00              2   \n",
              "1        683.0   Germany    Male  32.0       7  121887.91              1   \n",
              "2        711.0     Spain  Female  33.0       5       0.00              2   \n",
              "3        722.0    France  Female  28.0       4       0.00              2   \n",
              "4        754.0    France  Female  67.0       3       0.00              2   \n",
              "\n",
              "   HasCrCard  IsActiveMember  EstimatedSalary  churn  \n",
              "0          0               0        126551.65      1  \n",
              "1          1               1        176570.46      0  \n",
              "2          1               0        162703.80      0  \n",
              "3          1               1         76615.31      0  \n",
              "4          1               1        114514.92      0  "
            ]
          },
          "execution_count": 39,
          "metadata": {},
          "output_type": "execute_result"
        }
      ],
      "source": [
        "df.head()"
      ]
    },
    {
      "cell_type": "code",
      "execution_count": 40,
      "metadata": {
        "colab": {
          "base_uri": "https://localhost:8080/",
          "height": 553
        },
        "id": "HJKio1dFe4hT",
        "outputId": "166eedc7-9650-441c-801b-9bf6c85a9f2b"
      },
      "outputs": [
        {
          "data": {
            "text/plain": [
              "<Axes: >"
            ]
          },
          "execution_count": 40,
          "metadata": {},
          "output_type": "execute_result"
        },
        {
          "data": {
            "image/png": "[encoded data removed]",
            "text/plain": [
              "<Figure size 640x480 with 2 Axes>"
            ]
          },
          "metadata": {},
          "output_type": "display_data"
        }
      ],
      "source": [
        "sns.heatmap(df[numeric].corr())"
      ]
    },
    {
      "cell_type": "markdown",
      "metadata": {},
      "source": [
        "korelasi cenderung lemah tetapi age dan churn memiliki korelasi yang cukup kuat "
      ]
    },
    {
      "cell_type": "code",
      "execution_count": 41,
      "metadata": {
        "colab": {
          "base_uri": "https://localhost:8080/",
          "height": 206
        },
        "id": "mMX-5MsjiSt2",
        "outputId": "ee7b00f2-c7ed-415f-a7e1-a05e13101512"
      },
      "outputs": [
        {
          "data": {
            "text/html": [
              "<div>\n",
              "<style scoped>\n",
              "    .dataframe tbody tr th:only-of-type {\n",
              "        vertical-align: middle;\n",
              "    }\n",
              "\n",
              "    .dataframe tbody tr th {\n",
              "        vertical-align: top;\n",
              "    }\n",
              "\n",
              "    .dataframe thead th {\n",
              "        text-align: right;\n",
              "    }\n",
              "</style>\n",
              "<table border=\"1\" class=\"dataframe\">\n",
              "  <thead>\n",
              "    <tr style=\"text-align: right;\">\n",
              "      <th></th>\n",
              "      <th>Geography</th>\n",
              "      <th>Gender</th>\n",
              "    </tr>\n",
              "  </thead>\n",
              "  <tbody>\n",
              "    <tr>\n",
              "      <th>0</th>\n",
              "      <td>France</td>\n",
              "      <td>Male</td>\n",
              "    </tr>\n",
              "    <tr>\n",
              "      <th>1</th>\n",
              "      <td>Germany</td>\n",
              "      <td>Male</td>\n",
              "    </tr>\n",
              "    <tr>\n",
              "      <th>2</th>\n",
              "      <td>Spain</td>\n",
              "      <td>Female</td>\n",
              "    </tr>\n",
              "    <tr>\n",
              "      <th>3</th>\n",
              "      <td>France</td>\n",
              "      <td>Female</td>\n",
              "    </tr>\n",
              "    <tr>\n",
              "      <th>4</th>\n",
              "      <td>France</td>\n",
              "      <td>Female</td>\n",
              "    </tr>\n",
              "  </tbody>\n",
              "</table>\n",
              "</div>"
            ],
            "text/plain": [
              "  Geography  Gender\n",
              "0    France    Male\n",
              "1   Germany    Male\n",
              "2     Spain  Female\n",
              "3    France  Female\n",
              "4    France  Female"
            ]
          },
          "execution_count": 41,
          "metadata": {},
          "output_type": "execute_result"
        }
      ],
      "source": [
        "df[categorical].head()"
      ]
    },
    {
      "cell_type": "code",
      "execution_count": 42,
      "metadata": {
        "colab": {
          "base_uri": "https://localhost:8080/"
        },
        "id": "9WnoWQoRimO3",
        "outputId": "3150a92f-d598-43f5-f097-55f70cc1835d"
      },
      "outputs": [
        {
          "data": {
            "text/plain": [
              "3"
            ]
          },
          "execution_count": 42,
          "metadata": {},
          "output_type": "execute_result"
        }
      ],
      "source": [
        "df['Geography'].nunique()"
      ]
    },
    {
      "cell_type": "code",
      "execution_count": 43,
      "metadata": {
        "colab": {
          "base_uri": "https://localhost:8080/"
        },
        "id": "Fbdw1vkGiz2d",
        "outputId": "4a891154-1801-4bdd-cff9-f4940cf20f49"
      },
      "outputs": [
        {
          "data": {
            "text/plain": [
              "2"
            ]
          },
          "execution_count": 43,
          "metadata": {},
          "output_type": "execute_result"
        }
      ],
      "source": [
        "df['Gender'].nunique()"
      ]
    },
    {
      "cell_type": "code",
      "execution_count": 44,
      "metadata": {
        "id": "-2p1orhWkStt"
      },
      "outputs": [],
      "source": [
        "X = df.drop(['churn'], axis=1)\n",
        "y = df['churn']"
      ]
    },
    {
      "cell_type": "code",
      "execution_count": 45,
      "metadata": {
        "colab": {
          "base_uri": "https://localhost:8080/"
        },
        "id": "32skE0Xci1ga",
        "outputId": "ced6c7d3-7ba9-4209-b0bf-9c58224d74a5"
      },
      "outputs": [
        {
          "name": "stdout",
          "output_type": "stream",
          "text": [
            "(32990, 10)\n",
            "(32990,)\n",
            "(8248, 10)\n",
            "(8248,)\n"
          ]
        }
      ],
      "source": [
        "from sklearn.model_selection import train_test_split\n",
        "\n",
        "x_train, x_test, y_train, y_test = train_test_split(X,y, test_size=0.2)\n",
        "\n",
        "print(x_train.shape)\n",
        "print(y_train.shape)\n",
        "print(x_test.shape)\n",
        "print(y_test.shape)"
      ]
    },
    {
      "cell_type": "markdown",
      "metadata": {},
      "source": [
        "melakukan pembagian dataset"
      ]
    },
    {
      "cell_type": "code",
      "execution_count": 46,
      "metadata": {
        "colab": {
          "base_uri": "https://localhost:8080/"
        },
        "id": "f_NzhMt3naz3",
        "outputId": "456089a2-660c-496f-c69c-b0d34bdf63ac"
      },
      "outputs": [
        {
          "name": "stderr",
          "output_type": "stream",
          "text": [
            "c:\\Users\\marvi\\anaconda3\\envs\\ComputerVision\\lib\\site-packages\\sklearn\\preprocessing\\_encoders.py:975: FutureWarning: `sparse` was renamed to `sparse_output` in version 1.2 and will be removed in 1.4. `sparse_output` is ignored unless you leave `sparse` to its default value.\n",
            "  warnings.warn(\n",
            "c:\\Users\\marvi\\anaconda3\\envs\\ComputerVision\\lib\\site-packages\\sklearn\\preprocessing\\_encoders.py:975: FutureWarning: `sparse` was renamed to `sparse_output` in version 1.2 and will be removed in 1.4. `sparse_output` is ignored unless you leave `sparse` to its default value.\n",
            "  warnings.warn(\n"
          ]
        }
      ],
      "source": [
        "from sklearn.preprocessing import OneHotEncoder\n",
        "\n",
        "\n",
        "for col in categorical:\n",
        "  encoder = OneHotEncoder(sparse=False, handle_unknown=\"ignore\")\n",
        "  # Fit and transform the 'Gender' column for each DataFrame\n",
        "  encoded_train = encoder.fit_transform(x_train[[col]])\n",
        "  encoded_test = encoder.transform(x_test[[col]])\n",
        "\n",
        "  columns_to_drop = [col]\n",
        "\n",
        "  # Reset indices before concatenation\n",
        "  x_train = x_train.reset_index(drop=True)\n",
        "  x_test = x_test.reset_index(drop=True)\n",
        "  x_train = pd.concat([x_train.drop(columns=columns_to_drop), pd.DataFrame(encoded_train, columns=encoder.get_feature_names_out(columns_to_drop))], axis=1)\n",
        "  x_test = pd.concat([x_test.drop(columns=columns_to_drop), pd.DataFrame(encoded_test, columns=encoder.get_feature_names_out(columns_to_drop))], axis=1)"
      ]
    },
    {
      "cell_type": "code",
      "execution_count": 47,
      "metadata": {},
      "outputs": [
        {
          "ename": "SyntaxError",
          "evalue": "invalid syntax (3711050920.py, line 1)",
          "output_type": "error",
          "traceback": [
            "\u001b[1;36m  Cell \u001b[1;32mIn[47], line 1\u001b[1;36m\u001b[0m\n\u001b[1;33m    dengan data categorical yang dimiliki saya menggunakan one hot encoder untuk meng-encode data categorical tersebut\u001b[0m\n\u001b[1;37m           ^\u001b[0m\n\u001b[1;31mSyntaxError\u001b[0m\u001b[1;31m:\u001b[0m invalid syntax\n"
          ]
        }
      ],
      "source": [
        "dengan data categorical yang dimiliki saya menggunakan one hot encoder untuk meng-encode data categorical tersebut"
      ]
    },
    {
      "cell_type": "code",
      "execution_count": null,
      "metadata": {},
      "outputs": [
        {
          "name": "stdout",
          "output_type": "stream",
          "text": [
            "1.3.2\n"
          ]
        }
      ],
      "source": [
        "import sklearn; print(sklearn.__version__)"
      ]
    },
    {
      "cell_type": "code",
      "execution_count": null,
      "metadata": {
        "colab": {
          "base_uri": "https://localhost:8080/",
          "height": 423
        },
        "id": "oIzQILbUqzXA",
        "outputId": "529b976b-d57f-4463-b112-9363121969b4"
      },
      "outputs": [
        {
          "data": {
            "text/html": [
              "<div>\n",
              "<style scoped>\n",
              "    .dataframe tbody tr th:only-of-type {\n",
              "        vertical-align: middle;\n",
              "    }\n",
              "\n",
              "    .dataframe tbody tr th {\n",
              "        vertical-align: top;\n",
              "    }\n",
              "\n",
              "    .dataframe thead th {\n",
              "        text-align: right;\n",
              "    }\n",
              "</style>\n",
              "<table border=\"1\" class=\"dataframe\">\n",
              "  <thead>\n",
              "    <tr style=\"text-align: right;\">\n",
              "      <th></th>\n",
              "      <th>CreditScore</th>\n",
              "      <th>Age</th>\n",
              "      <th>Tenure</th>\n",
              "      <th>Balance</th>\n",
              "      <th>NumOfProducts</th>\n",
              "      <th>HasCrCard</th>\n",
              "      <th>IsActiveMember</th>\n",
              "      <th>EstimatedSalary</th>\n",
              "      <th>Geography_France</th>\n",
              "      <th>Geography_Germany</th>\n",
              "      <th>Geography_Spain</th>\n",
              "      <th>Gender_Female</th>\n",
              "      <th>Gender_Male</th>\n",
              "    </tr>\n",
              "  </thead>\n",
              "  <tbody>\n",
              "    <tr>\n",
              "      <th>0</th>\n",
              "      <td>850.0</td>\n",
              "      <td>29.0</td>\n",
              "      <td>2</td>\n",
              "      <td>142882.49</td>\n",
              "      <td>2</td>\n",
              "      <td>1</td>\n",
              "      <td>0</td>\n",
              "      <td>89327.67</td>\n",
              "      <td>0.0</td>\n",
              "      <td>1.0</td>\n",
              "      <td>0.0</td>\n",
              "      <td>1.0</td>\n",
              "      <td>0.0</td>\n",
              "    </tr>\n",
              "    <tr>\n",
              "      <th>1</th>\n",
              "      <td>732.0</td>\n",
              "      <td>48.0</td>\n",
              "      <td>10</td>\n",
              "      <td>150315.92</td>\n",
              "      <td>1</td>\n",
              "      <td>1</td>\n",
              "      <td>0</td>\n",
              "      <td>133486.36</td>\n",
              "      <td>0.0</td>\n",
              "      <td>0.0</td>\n",
              "      <td>1.0</td>\n",
              "      <td>1.0</td>\n",
              "      <td>0.0</td>\n",
              "    </tr>\n",
              "    <tr>\n",
              "      <th>2</th>\n",
              "      <td>684.0</td>\n",
              "      <td>27.0</td>\n",
              "      <td>8</td>\n",
              "      <td>116322.27</td>\n",
              "      <td>4</td>\n",
              "      <td>1</td>\n",
              "      <td>0</td>\n",
              "      <td>35640.12</td>\n",
              "      <td>0.0</td>\n",
              "      <td>1.0</td>\n",
              "      <td>0.0</td>\n",
              "      <td>1.0</td>\n",
              "      <td>0.0</td>\n",
              "    </tr>\n",
              "    <tr>\n",
              "      <th>3</th>\n",
              "      <td>615.0</td>\n",
              "      <td>52.0</td>\n",
              "      <td>3</td>\n",
              "      <td>0.00</td>\n",
              "      <td>2</td>\n",
              "      <td>1</td>\n",
              "      <td>1</td>\n",
              "      <td>173952.50</td>\n",
              "      <td>1.0</td>\n",
              "      <td>0.0</td>\n",
              "      <td>0.0</td>\n",
              "      <td>0.0</td>\n",
              "      <td>1.0</td>\n",
              "    </tr>\n",
              "    <tr>\n",
              "      <th>4</th>\n",
              "      <td>675.0</td>\n",
              "      <td>50.0</td>\n",
              "      <td>1</td>\n",
              "      <td>133204.91</td>\n",
              "      <td>1</td>\n",
              "      <td>1</td>\n",
              "      <td>1</td>\n",
              "      <td>8270.06</td>\n",
              "      <td>0.0</td>\n",
              "      <td>0.0</td>\n",
              "      <td>1.0</td>\n",
              "      <td>1.0</td>\n",
              "      <td>0.0</td>\n",
              "    </tr>\n",
              "    <tr>\n",
              "      <th>...</th>\n",
              "      <td>...</td>\n",
              "      <td>...</td>\n",
              "      <td>...</td>\n",
              "      <td>...</td>\n",
              "      <td>...</td>\n",
              "      <td>...</td>\n",
              "      <td>...</td>\n",
              "      <td>...</td>\n",
              "      <td>...</td>\n",
              "      <td>...</td>\n",
              "      <td>...</td>\n",
              "      <td>...</td>\n",
              "      <td>...</td>\n",
              "    </tr>\n",
              "    <tr>\n",
              "      <th>8243</th>\n",
              "      <td>628.0</td>\n",
              "      <td>34.0</td>\n",
              "      <td>6</td>\n",
              "      <td>0.00</td>\n",
              "      <td>2</td>\n",
              "      <td>1</td>\n",
              "      <td>1</td>\n",
              "      <td>157097.02</td>\n",
              "      <td>1.0</td>\n",
              "      <td>0.0</td>\n",
              "      <td>0.0</td>\n",
              "      <td>1.0</td>\n",
              "      <td>0.0</td>\n",
              "    </tr>\n",
              "    <tr>\n",
              "      <th>8244</th>\n",
              "      <td>598.0</td>\n",
              "      <td>37.0</td>\n",
              "      <td>5</td>\n",
              "      <td>142688.57</td>\n",
              "      <td>2</td>\n",
              "      <td>1</td>\n",
              "      <td>0</td>\n",
              "      <td>110953.33</td>\n",
              "      <td>0.0</td>\n",
              "      <td>1.0</td>\n",
              "      <td>0.0</td>\n",
              "      <td>0.0</td>\n",
              "      <td>1.0</td>\n",
              "    </tr>\n",
              "    <tr>\n",
              "      <th>8245</th>\n",
              "      <td>736.0</td>\n",
              "      <td>35.0</td>\n",
              "      <td>8</td>\n",
              "      <td>0.00</td>\n",
              "      <td>2</td>\n",
              "      <td>1</td>\n",
              "      <td>1</td>\n",
              "      <td>195052.12</td>\n",
              "      <td>1.0</td>\n",
              "      <td>0.0</td>\n",
              "      <td>0.0</td>\n",
              "      <td>0.0</td>\n",
              "      <td>1.0</td>\n",
              "    </tr>\n",
              "    <tr>\n",
              "      <th>8246</th>\n",
              "      <td>588.0</td>\n",
              "      <td>41.0</td>\n",
              "      <td>2</td>\n",
              "      <td>0.00</td>\n",
              "      <td>1</td>\n",
              "      <td>0</td>\n",
              "      <td>1</td>\n",
              "      <td>157891.86</td>\n",
              "      <td>1.0</td>\n",
              "      <td>0.0</td>\n",
              "      <td>0.0</td>\n",
              "      <td>0.0</td>\n",
              "      <td>1.0</td>\n",
              "    </tr>\n",
              "    <tr>\n",
              "      <th>8247</th>\n",
              "      <td>586.0</td>\n",
              "      <td>30.0</td>\n",
              "      <td>4</td>\n",
              "      <td>64900.32</td>\n",
              "      <td>2</td>\n",
              "      <td>1</td>\n",
              "      <td>1</td>\n",
              "      <td>44384.57</td>\n",
              "      <td>0.0</td>\n",
              "      <td>1.0</td>\n",
              "      <td>0.0</td>\n",
              "      <td>1.0</td>\n",
              "      <td>0.0</td>\n",
              "    </tr>\n",
              "  </tbody>\n",
              "</table>\n",
              "<p>8248 rows × 13 columns</p>\n",
              "</div>"
            ],
            "text/plain": [
              "      CreditScore   Age  Tenure    Balance  NumOfProducts  HasCrCard  \\\n",
              "0           850.0  29.0       2  142882.49              2          1   \n",
              "1           732.0  48.0      10  150315.92              1          1   \n",
              "2           684.0  27.0       8  116322.27              4          1   \n",
              "3           615.0  52.0       3       0.00              2          1   \n",
              "4           675.0  50.0       1  133204.91              1          1   \n",
              "...           ...   ...     ...        ...            ...        ...   \n",
              "8243        628.0  34.0       6       0.00              2          1   \n",
              "8244        598.0  37.0       5  142688.57              2          1   \n",
              "8245        736.0  35.0       8       0.00              2          1   \n",
              "8246        588.0  41.0       2       0.00              1          0   \n",
              "8247        586.0  30.0       4   64900.32              2          1   \n",
              "\n",
              "      IsActiveMember  EstimatedSalary  Geography_France  Geography_Germany  \\\n",
              "0                  0         89327.67               0.0                1.0   \n",
              "1                  0        133486.36               0.0                0.0   \n",
              "2                  0         35640.12               0.0                1.0   \n",
              "3                  1        173952.50               1.0                0.0   \n",
              "4                  1          8270.06               0.0                0.0   \n",
              "...              ...              ...               ...                ...   \n",
              "8243               1        157097.02               1.0                0.0   \n",
              "8244               0        110953.33               0.0                1.0   \n",
              "8245               1        195052.12               1.0                0.0   \n",
              "8246               1        157891.86               1.0                0.0   \n",
              "8247               1         44384.57               0.0                1.0   \n",
              "\n",
              "      Geography_Spain  Gender_Female  Gender_Male  \n",
              "0                 0.0            1.0          0.0  \n",
              "1                 1.0            1.0          0.0  \n",
              "2                 0.0            1.0          0.0  \n",
              "3                 0.0            0.0          1.0  \n",
              "4                 1.0            1.0          0.0  \n",
              "...               ...            ...          ...  \n",
              "8243              0.0            1.0          0.0  \n",
              "8244              0.0            0.0          1.0  \n",
              "8245              0.0            0.0          1.0  \n",
              "8246              0.0            0.0          1.0  \n",
              "8247              0.0            1.0          0.0  \n",
              "\n",
              "[8248 rows x 13 columns]"
            ]
          },
          "execution_count": 19,
          "metadata": {},
          "output_type": "execute_result"
        }
      ],
      "source": [
        "x_test"
      ]
    },
    {
      "cell_type": "code",
      "execution_count": null,
      "metadata": {
        "id": "9AQ0UUgDt30C"
      },
      "outputs": [],
      "source": [
        "x_train_scaled, x_test_scaled, y_train_scaled, y_test_scaled = x_train.copy(), x_test.copy(), y_train.copy(), y_test.copy()"
      ]
    },
    {
      "cell_type": "markdown",
      "metadata": {},
      "source": [
        "kemudian membuat dataset untuk process scaling karena dataset ini dapat digunakan untuk membandingkan dataset yang tidak di encode dengan yang di encode"
      ]
    },
    {
      "cell_type": "code",
      "execution_count": null,
      "metadata": {
        "id": "_Zjgm85SsTJM"
      },
      "outputs": [],
      "source": [
        "from sklearn.preprocessing import  MinMaxScaler\n",
        "\n",
        "continous = ['CreditScore', 'Balance', 'EstimatedSalary']\n",
        "\n",
        "for col in continous:\n",
        "  scaler = MinMaxScaler()\n",
        "  x_train_scaled[col] = scaler.fit_transform(x_train_scaled[col].values.reshape(-1, 1))\n",
        "  x_test_scaled[col] = scaler.transform(x_test_scaled[col].values.reshape(-1, 1))"
      ]
    },
    {
      "cell_type": "markdown",
      "metadata": {},
      "source": [
        "process encoding pada beberapa continous feature"
      ]
    },
    {
      "cell_type": "code",
      "execution_count": null,
      "metadata": {
        "id": "VsRDUyp9u5av"
      },
      "outputs": [],
      "source": [
        "from sklearn.ensemble import RandomForestClassifier\n",
        "from sklearn.metrics import accuracy_score, precision_score, recall_score, f1_score, classification_report\n",
        "from xgboost import XGBClassifier\n",
        "def model_comparision(X_train, X_test, y_train, y_test, **model_kwargs):\n",
        "\n",
        "    # Initialize models with additional kwargs\n",
        "    models = {\n",
        "        'Random Forest': RandomForestClassifier(**model_kwargs.get('Random Forest', {})),\n",
        "        'XGBoost': XGBClassifier(**model_kwargs.get('XGBoost', {}))\n",
        "    }\n",
        "\n",
        "    # Train and evaluate each model\n",
        "    results = {'Model': [], 'Accuracy': [], 'Precision': [], 'Recall': [], 'F1 Score': []}\n",
        "\n",
        "    for model_name, model in models.items():\n",
        "        model.fit(X_train, y_train)\n",
        "        y_pred = model.predict(X_test)\n",
        "\n",
        "        # Evaluate metrics\n",
        "        accuracy = accuracy_score(y_test, y_pred)\n",
        "        precision = precision_score(y_test, y_pred, average='weighted')\n",
        "        recall = recall_score(y_test, y_pred, average='weighted')\n",
        "        f1 = f1_score(y_test, y_pred, average='weighted')\n",
        "\n",
        "        results['Model'].append(model_name)\n",
        "        results['Accuracy'].append(accuracy)\n",
        "        results['Precision'].append(precision)\n",
        "        results['Recall'].append(recall)\n",
        "        results['F1 Score'].append(f1)\n",
        "        print(classification_report(y_test, y_pred))\n",
        "\n",
        "    # Create a DataFrame for results\n",
        "    results_df = pd.DataFrame(results)\n",
        "\n",
        "    return results_df\n"
      ]
    },
    {
      "cell_type": "markdown",
      "metadata": {},
      "source": [
        "function diatas akan mempermudah process daripada comparasi model dan dataset dan juga proses evaluasi terharap model"
      ]
    },
    {
      "cell_type": "code",
      "execution_count": null,
      "metadata": {
        "id": "Kb6tXfz3wdP2"
      },
      "outputs": [],
      "source": [
        "model_kwargs = {\n",
        "  'RandomForest': {'n_estimators': 100, 'max_depth': 10, 'random_state': 42},\n",
        "  'XGBoost': {'n_estimators': 100, 'max_depth': 5}\n",
        "}"
      ]
    },
    {
      "cell_type": "markdown",
      "metadata": {},
      "source": [
        "mengatur hyper params dari model yang akan digunakan"
      ]
    },
    {
      "cell_type": "code",
      "execution_count": null,
      "metadata": {
        "colab": {
          "base_uri": "https://localhost:8080/"
        },
        "id": "RXit1NpFwMvH",
        "outputId": "2cbbf27a-11a2-4ecb-d07b-7b72343c98b3"
      },
      "outputs": [
        {
          "name": "stdout",
          "output_type": "stream",
          "text": [
            "              precision    recall  f1-score   support\n",
            "\n",
            "           0       0.88      0.95      0.91      6528\n",
            "           1       0.73      0.52      0.60      1720\n",
            "\n",
            "    accuracy                           0.86      8248\n",
            "   macro avg       0.80      0.73      0.76      8248\n",
            "weighted avg       0.85      0.86      0.85      8248\n",
            "\n",
            "              precision    recall  f1-score   support\n",
            "\n",
            "           0       0.89      0.94      0.92      6528\n",
            "           1       0.72      0.55      0.62      1720\n",
            "\n",
            "    accuracy                           0.86      8248\n",
            "   macro avg       0.80      0.75      0.77      8248\n",
            "weighted avg       0.85      0.86      0.85      8248\n",
            "\n",
            "Model Evaluation with OHE Clean Dataset Results:\n",
            "           Model  Accuracy  Precision    Recall  F1 Score\n",
            "0  Random Forest  0.858511   0.849151  0.858511  0.849205\n",
            "1        XGBoost  0.861542   0.853160  0.861542  0.854156\n"
          ]
        }
      ],
      "source": [
        "results_encode_clean = model_comparision(x_train, x_test, y_train, y_test, **model_kwargs)\n",
        "print(\"Model Evaluation with OHE Clean Dataset Results:\")\n",
        "print(results_encode_clean)"
      ]
    },
    {
      "cell_type": "code",
      "execution_count": null,
      "metadata": {
        "colab": {
          "base_uri": "https://localhost:8080/"
        },
        "id": "AhyiHC9Ywu4D",
        "outputId": "9bb8e03c-f827-4f9c-f603-364db30aa3f9"
      },
      "outputs": [
        {
          "name": "stdout",
          "output_type": "stream",
          "text": [
            "              precision    recall  f1-score   support\n",
            "\n",
            "           0       0.88      0.95      0.91      6528\n",
            "           1       0.73      0.52      0.60      1720\n",
            "\n",
            "    accuracy                           0.86      8248\n",
            "   macro avg       0.80      0.73      0.76      8248\n",
            "weighted avg       0.85      0.86      0.85      8248\n",
            "\n",
            "              precision    recall  f1-score   support\n",
            "\n",
            "           0       0.89      0.94      0.91      6528\n",
            "           1       0.71      0.54      0.61      1720\n",
            "\n",
            "    accuracy                           0.86      8248\n",
            "   macro avg       0.80      0.74      0.76      8248\n",
            "weighted avg       0.85      0.86      0.85      8248\n",
            "\n",
            "Model Evaluation with OHE and MinMaxScaler Clean Dataset Results:\n",
            "           Model  Accuracy  Precision    Recall  F1 Score\n",
            "0  Random Forest  0.858147   0.848713  0.858147  0.848748\n",
            "1        XGBoost  0.858754   0.850000  0.858754  0.851198\n"
          ]
        }
      ],
      "source": [
        "results_encode_scaled_clean = model_comparision(x_train_scaled, x_test_scaled, y_train_scaled, y_test_scaled, **model_kwargs)\n",
        "print(\"Model Evaluation with OHE and MinMaxScaler Clean Dataset Results:\")\n",
        "print(results_encode_scaled_clean)"
      ]
    },
    {
      "cell_type": "markdown",
      "metadata": {},
      "source": [
        "terlihat penggunaan data yang di scaled dan di encode memiliki hasil yang lebih baik dari pada hanya di encode dan juga dataset XGB terlihat lebih baik juga"
      ]
    },
    {
      "cell_type": "code",
      "execution_count": null,
      "metadata": {},
      "outputs": [],
      "source": [
        "model_kwargs2 = {\n",
        "  'RandomForest': {\n",
        "    'n_estimators': 200, \n",
        "    'max_depth': 12,      \n",
        "    'random_state': 42,   \n",
        "    'min_samples_split': 2, \n",
        "    'min_samples_leaf': 5, \n",
        "  },\n",
        "  'XGBoost': {\n",
        "    'n_estimators': 150, \n",
        "    'max_depth': 7,       \n",
        "    'learning_rate': 0.1,\n",
        "    'gamma': 0.4,      \n",
        "    'colsample_bytree': 0.8, \n",
        "  }\n",
        "}"
      ]
    },
    {
      "cell_type": "markdown",
      "metadata": {},
      "source": [
        "setelah mengetahui dataset mana yang lebih baik saatnya mencoba pada parameter yang lebih kompleks untuk meilihat apakah ada peningkatan"
      ]
    },
    {
      "cell_type": "code",
      "execution_count": null,
      "metadata": {},
      "outputs": [
        {
          "name": "stdout",
          "output_type": "stream",
          "text": [
            "              precision    recall  f1-score   support\n",
            "\n",
            "           0       0.88      0.95      0.91      6528\n",
            "           1       0.73      0.52      0.60      1720\n",
            "\n",
            "    accuracy                           0.86      8248\n",
            "   macro avg       0.80      0.73      0.76      8248\n",
            "weighted avg       0.85      0.86      0.85      8248\n",
            "\n",
            "              precision    recall  f1-score   support\n",
            "\n",
            "           0       0.89      0.94      0.91      6528\n",
            "           1       0.72      0.54      0.62      1720\n",
            "\n",
            "    accuracy                           0.86      8248\n",
            "   macro avg       0.80      0.74      0.77      8248\n",
            "weighted avg       0.85      0.86      0.85      8248\n",
            "\n",
            "Model Evaluation with OHE and MinMaxScaler Clean Dataset Results:\n",
            "           Model  Accuracy  Precision    Recall  F1 Score\n",
            "0  Random Forest  0.858754   0.849443  0.858754  0.849509\n",
            "1        XGBoost  0.860936   0.852414  0.860936  0.853369\n"
          ]
        }
      ],
      "source": [
        "results_encode_scaled_clean = model_comparision(x_train_scaled, x_test_scaled, y_train_scaled, y_test_scaled, **model_kwargs2)\n",
        "print(\"Model Evaluation with OHE and MinMaxScaler Clean Dataset Results:\")\n",
        "print(results_encode_scaled_clean)"
      ]
    },
    {
      "cell_type": "markdown",
      "metadata": {},
      "source": [
        "terlihat ada peningkatan sehingga XGB dengan params ini dapat digunakan untuk di export "
      ]
    },
    {
      "cell_type": "code",
      "execution_count": null,
      "metadata": {},
      "outputs": [
        {
          "name": "stdout",
          "output_type": "stream",
          "text": [
            "0.8609359844810863\n",
            "XGBoost model trained and exported to: \\UTS\n"
          ]
        }
      ],
      "source": [
        "import pickle\n",
        "from xgboost import XGBClassifier\n",
        "\n",
        "\n",
        "export_path = r\"\\UTS\"\n",
        "# Create XGBoost classifier\n",
        "model = XGBClassifier( \n",
        "    n_estimators=150,\n",
        "    max_depth=7,\n",
        "    learning_rate=0.1,\n",
        "    gamma=0.4,\n",
        "    colsample_bytree=0.8\n",
        ")\n",
        "\n",
        "# Train the model\n",
        "model.fit(x_train_scaled, y_train_scaled)\n",
        "\n",
        "# Export the model to a pickle file\n",
        "filename = 'finalized_model.pkl'\n",
        "pickle.dump(model, open(filename, 'wb'))\n",
        " \n",
        "# some time later...\n",
        " \n",
        "# load the model from disk\n",
        "loaded_model = pickle.load(open(filename, 'rb'))\n",
        "result = loaded_model.score(x_test_scaled, y_test_scaled)\n",
        "print(result)\n",
        "\n",
        "print(f\"XGBoost model trained and exported to: {export_path}\")"
      ]
    },
    {
      "cell_type": "markdown",
      "metadata": {},
      "source": [
        "prosses evaluasi dan export pada model yang telah dipilih"
      ]
    }
  ],
  "metadata": {
    "colab": {
      "provenance": []
    },
    "kernelspec": {
      "display_name": "Python 3",
      "name": "python3"
    },
    "language_info": {
      "codemirror_mode": {
        "name": "ipython",
        "version": 3
      },
      "file_extension": ".py",
      "mimetype": "text/x-python",
      "name": "python",
      "nbconvert_exporter": "python",
      "pygments_lexer": "ipython3",
      "version": "3.9.18"
    }
  },
  "nbformat": 4,
  "nbformat_minor": 0
}
